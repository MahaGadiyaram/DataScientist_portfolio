{
 "cells": [
  {
   "cell_type": "markdown",
   "id": "4d0ec798",
   "metadata": {},
   "source": [
    "Overview:\n",
    "\n",
    "This Project is a Recipe Recommender which takes a list of ingredeints as user input and suggests recipes. \n",
    "In this project I have taken data from an API called Spoonacular api . Data from the API was in JSON format, I have extracted the recipe information like recipe ID,recipe name, ingredients, instructions, nutritional values by flatenning the JSON file. I have used Pandas and Scikit Learn to extract and clean the data , later used Seabor and Matplotlib to Visualize the data. I took the ingredients data ,parsed them and applied TFIDF . I reduced the dimensionality of the TFIDF matrix by applying PDA and later used Elbow Method to determine the number of Clusers. The Elbow Method was not clear so I guessed the number of Clusters randomly and applied KMeans Clustering model to get the Clusters. I plotted it with Plotly. Now I determined the the most frequent words occuring in each Cluster and tried to label the Clusters. Now I defined a Recommendation function which takes ingredeints lists, type of dish(Breakfast,Lunch) and time a user wants to spend cooking it as input and Suggests Top 3 Recipes.\n",
    "Later I used Streamlit to present my Recipe Recommender."
   ]
  }
 ],
 "metadata": {
  "kernelspec": {
   "display_name": "Python 3 (ipykernel)",
   "language": "python",
   "name": "python3"
  },
  "language_info": {
   "codemirror_mode": {
    "name": "ipython",
    "version": 3
   },
   "file_extension": ".py",
   "mimetype": "text/x-python",
   "name": "python",
   "nbconvert_exporter": "python",
   "pygments_lexer": "ipython3",
   "version": "3.9.7"
  }
 },
 "nbformat": 4,
 "nbformat_minor": 5
}
